{
 "cells": [
  {
   "cell_type": "code",
   "execution_count": 1,
   "id": "0322c98b",
   "metadata": {
    "ExecuteTime": {
     "end_time": "2024-09-09T21:11:36.827309Z",
     "start_time": "2024-09-09T21:11:35.389484Z"
    }
   },
   "outputs": [],
   "source": [
    "from pathlib import Path\n",
    "from time import time\n",
    "\n",
    "import matplotlib.pyplot as plt\n",
    "import numpy as np\n",
    "import torch\n",
    "import torch.nn as nn\n",
    "import torch.optim as optim\n",
    "import torchvision\n",
    "import torchvision.transforms as transforms\n",
    "from tqdm import trange\n",
    "\n",
    "from kgi import apply_kgi_to_model"
   ]
  },
  {
   "cell_type": "code",
   "execution_count": 2,
   "id": "6b436357",
   "metadata": {
    "ExecuteTime": {
     "end_time": "2024-09-09T21:11:36.830230Z",
     "start_time": "2024-09-09T21:11:36.828109Z"
    }
   },
   "outputs": [],
   "source": [
    "# attempt to enable LaTeX rendering\n",
    "# change to `False` if you get an error during plotting (latex not installed)\n",
    "plt.rcParams['text.usetex'] = True"
   ]
  },
  {
   "cell_type": "markdown",
   "id": "ec6dc013-ae78-440b-a258-d8da142413d0",
   "metadata": {},
   "source": [
    "# Data"
   ]
  },
  {
   "cell_type": "code",
   "execution_count": 3,
   "id": "b3431b07-4528-40ae-8c3e-204e4fbac9d6",
   "metadata": {
    "ExecuteTime": {
     "end_time": "2024-09-09T21:11:42.392127Z",
     "start_time": "2024-09-09T21:11:36.832983Z"
    }
   },
   "outputs": [
    {
     "name": "stdout",
     "output_type": "stream",
     "text": [
      "Files already downloaded and verified\n",
      "Files already downloaded and verified\n"
     ]
    }
   ],
   "source": [
    "def batchify(data, labels, batch_size):\n",
    "    \"\"\" manually batchify data \"\"\"\n",
    "    for i in range(0, len(data), batch_size):\n",
    "        yield data[i:i + batch_size], labels[i:i + batch_size]\n",
    "\n",
    "\n",
    "def load_dataset_to_gpu(batch_size=512, device=\"cuda\"):\n",
    "    \"\"\" load dataset in CPU, process, and move to GPU \"\"\"\n",
    "    transform = transforms.Compose([transforms.ToTensor(), ])\n",
    "    train_dataset = torchvision.datasets.CIFAR10(root='./datasets_torch',\n",
    "                                                 train=True, download=True, transform=transform)\n",
    "    test_dataset = torchvision.datasets.CIFAR10(root='./datasets_torch',\n",
    "                                                train=False, download=True, transform=transform)\n",
    "    train_data = torch.stack([train_dataset[i][0] for i in range(len(train_dataset))]).to(device)\n",
    "    train_labels = torch.tensor(\n",
    "        [train_dataset[i][1] for i in range(len(train_dataset))], dtype=torch.long).to(device)\n",
    "    test_data = torch.stack([test_dataset[i][0] for i in range(len(test_dataset))]).to(device)\n",
    "    test_labels = torch.tensor(\n",
    "        [test_dataset[i][1] for i in range(len(test_dataset))], dtype=torch.long).to(device)\n",
    "    train_batches = list(batchify(train_data, train_labels, batch_size))\n",
    "    test_batches = list(batchify(test_data, test_labels, batch_size))\n",
    "    return train_batches, test_batches\n",
    "\n",
    "\n",
    "device_ = \"cuda\" if torch.cuda.is_available() else \"cpu\"\n",
    "train_set, test_set = load_dataset_to_gpu(device=device_)"
   ]
  },
  {
   "cell_type": "markdown",
   "id": "12c74326",
   "metadata": {},
   "source": [
    "# Training"
   ]
  },
  {
   "cell_type": "code",
   "execution_count": 4,
   "id": "1ed6a052-6a2d-4609-81c2-9f872b03b4a0",
   "metadata": {
    "ExecuteTime": {
     "end_time": "2024-09-09T21:11:42.395771Z",
     "start_time": "2024-09-09T21:11:42.393734Z"
    }
   },
   "outputs": [],
   "source": [
    "class MLP(nn.Module):\n",
    "    def __init__(self, batch_norm):\n",
    "        super(MLP, self).__init__()\n",
    "        self.fc1 = nn.Linear(32 * 32 * 3, 256)\n",
    "        self.fc2 = nn.Linear(256, 128)\n",
    "        self.fc3 = nn.Linear(128, 128)\n",
    "        self.fc_out = nn.Linear(128, 10)\n",
    "        self.dropout1 = nn.Dropout(0.1)\n",
    "        self.dropout2 = nn.Dropout(0.1)\n",
    "        self.dropout3 = nn.Dropout(0.1)\n",
    "        self.batch_norm1 = nn.BatchNorm1d(256) if batch_norm else nn.Identity()\n",
    "        self.batch_norm2 = nn.BatchNorm1d(128) if batch_norm else nn.Identity()\n",
    "        self.batch_norm3 = nn.BatchNorm1d(128) if batch_norm else nn.Identity()\n",
    "\n",
    "    def forward(self, x):\n",
    "        x = x.view(-1, 32 * 32 * 3)\n",
    "        x = torch.relu(self.batch_norm1(self.fc1(x)))\n",
    "        x = self.dropout1(x)\n",
    "        x = torch.relu(self.batch_norm2(self.fc2(x)))\n",
    "        x = self.dropout2(x)\n",
    "        x = torch.relu(self.batch_norm3(self.fc3(x)))\n",
    "        x = self.dropout3(x)\n",
    "        x = self.fc_out(x)\n",
    "        return x"
   ]
  },
  {
   "cell_type": "code",
   "execution_count": 5,
   "id": "b2ec6c4f",
   "metadata": {
    "ExecuteTime": {
     "end_time": "2024-09-09T21:11:42.401090Z",
     "start_time": "2024-09-09T21:11:42.399749Z"
    }
   },
   "outputs": [],
   "source": [
    "def train(kgi, batch_norm, seed=0, num_epochs=10000, save_every=10, progress_bar=True):\n",
    "    torch.manual_seed(seed)\n",
    "\n",
    "    # model\n",
    "    model = MLP(batch_norm)\n",
    "    if kgi:\n",
    "        apply_kgi_to_model(model, knot_low=0, knot_high=1,\n",
    "                           perturb_factor=0.2, kgi_by_bias=False,\n",
    "                           homogenous_factor=-1)\n",
    "    model = model.to(device_)\n",
    "    model.train()\n",
    "\n",
    "    # loss function and optimizer\n",
    "    criterion = nn.CrossEntropyLoss()\n",
    "    optimizer = optim.Adam(model.parameters(), lr=1e-3)\n",
    "\n",
    "    # train loop\n",
    "    loss_history = []\n",
    "    loop = trange(num_epochs, desc=\"Training Epochs\", disable=not progress_bar)\n",
    "    for epoch in loop:\n",
    "        running_loss = 0.0\n",
    "        for images, labels in train_set:\n",
    "            outputs = model(images)\n",
    "            loss = criterion(outputs, labels)\n",
    "            optimizer.zero_grad()\n",
    "            loss.backward()\n",
    "            optimizer.step()\n",
    "            running_loss += loss.item()\n",
    "        if (epoch + 1) % save_every == 0:\n",
    "            epoch_loss = running_loss / len(train_set)\n",
    "            loss_history.append(epoch_loss)\n",
    "            loop.set_postfix({\"Epoch Loss\": f\"{epoch_loss:.2e}\"})\n",
    "\n",
    "    # evaluation\n",
    "    correct = 0\n",
    "    total = 0\n",
    "    model.eval()\n",
    "    with torch.no_grad():\n",
    "        for images, labels in test_set:\n",
    "            outputs = model(images)\n",
    "            _, predicted = torch.max(outputs.data, 1)\n",
    "            total += labels.size(0)\n",
    "            correct += (predicted == labels).sum().item()  # noqa\n",
    "\n",
    "    accuracy = 100 * correct / total\n",
    "    if progress_bar:\n",
    "        print(f'Final Accuracy on test set: {accuracy:.2f}%')\n",
    "    return loss_history, accuracy"
   ]
  },
  {
   "cell_type": "code",
   "execution_count": 6,
   "id": "a823ad15",
   "metadata": {
    "ExecuteTime": {
     "end_time": "2024-09-09T21:11:42.407272Z",
     "start_time": "2024-09-09T21:11:42.402956Z"
    }
   },
   "outputs": [
    {
     "name": "stdout",
     "output_type": "stream",
     "text": [
      "0_False exists\n",
      "0_True exists\n",
      "1_False exists\n",
      "1_True exists\n",
      "2_False exists\n",
      "2_True exists\n",
      "3_False exists\n",
      "3_True exists\n",
      "4_False exists\n",
      "4_True exists\n",
      "5_False exists\n",
      "5_True exists\n",
      "6_False exists\n",
      "6_True exists\n",
      "7_False exists\n",
      "7_True exists\n",
      "8_False exists\n",
      "8_True exists\n",
      "9_False exists\n",
      "9_True exists\n"
     ]
    }
   ],
   "source": [
    "# train all models\n",
    "seeds = list(range(10))  # use `seeds = [0]` for fast test\n",
    "epochs = 20000  # use a smaller one for fast test\n",
    "out_dir = Path(\"results/cifar10_paper\")\n",
    "\n",
    "out_dir.mkdir(exist_ok=True, parents=True)\n",
    "for seed_ in seeds:\n",
    "    for kgi_ in [False, True]:\n",
    "        for batch_norm_ in [False, True]:\n",
    "            name_ = f\"{seed_}_{kgi_}_{batch_norm_}\"\n",
    "            if not (out_dir / name_).exists():\n",
    "                t0 = time()\n",
    "                hist_, acc = train(kgi_, batch_norm_, seed_, epochs, progress_bar=True)\n",
    "                np.savetxt(out_dir / name_, hist_, header=f\"{acc}\")\n",
    "                print(f\"{name_} trained in {(time() - t0) / 60:.1f} min, \"\n",
    "                      f\"loss={hist_[-1]:.2e}, acc={acc:.2f}%\")\n",
    "            else:\n",
    "                print(f\"{name_} exists\")"
   ]
  },
  {
   "cell_type": "markdown",
   "id": "39740eca-af8c-4aeb-aa7b-e2a5d1d3184c",
   "metadata": {},
   "source": [
    "# Analysis"
   ]
  },
  {
   "cell_type": "markdown",
   "id": "ddcaaa2f-eedc-4fc4-bd99-bbbec8980c45",
   "metadata": {},
   "source": [
    "### Metrics"
   ]
  },
  {
   "cell_type": "code",
   "execution_count": 7,
   "id": "c19a5c61",
   "metadata": {
    "ExecuteTime": {
     "end_time": "2024-09-09T21:11:42.433703Z",
     "start_time": "2024-09-09T21:11:42.408246Z"
    }
   },
   "outputs": [
    {
     "name": "stdout",
     "output_type": "stream",
     "text": [
      "\n",
      "No KGI\n",
      "Loss: 0.26 ± 0.26\n",
      "slowness: 0.35 ± 0.03\n",
      "Accuracy: 46.6 ± 0.3%\n",
      "\n",
      "KGI\n",
      "Loss: 0.18 ± 0.18\n",
      "slowness: 0.28 ± 0.02\n",
      "Accuracy: 47.5 ± 0.3%\n",
      "\n",
      "Copy to table\n",
      "CIFAR-10 & $0.26\\!\\pm\\!0.03$ & $0.18\\!\\pm\\!0.02$ & $0.35\\!\\pm\\!0.03$ & $0.28\\!\\pm\\!0.02$ & Accuracy & $46.65\\!\\pm\\!0.31\\%$ & $47.53\\!\\pm\\!0.27\\%$\n"
     ]
    }
   ],
   "source": [
    "def print_metrics(kgi):\n",
    "    losses = []\n",
    "    slowness = []\n",
    "    accs = []\n",
    "    for seed in seeds:\n",
    "        # read history\n",
    "        name = f\"{seed}_{kgi}\"\n",
    "        hist = np.loadtxt(out_dir / name)\n",
    "        # use average of last 50 epochs (5 * 10) as final loss\n",
    "        final_loss = hist[-5:].mean()\n",
    "        losses.append(final_loss)\n",
    "        # AUC for convergence slowness\n",
    "        init_loss = hist[:10].mean()\n",
    "        slowness.append(hist.mean() / init_loss)\n",
    "        # read relative error\n",
    "        with open(out_dir / name) as fs:\n",
    "            acc_str = fs.readline()\n",
    "        accs.append(float(acc_str[1:]))\n",
    "    losses = np.array(losses)\n",
    "    slowness = np.array(slowness)\n",
    "    accs = np.array(accs)\n",
    "    print(\"\\nKGI\" if kgi else \"\\nNo KGI\")\n",
    "    print(f\"Loss: {losses.mean():.2f} ± {losses.mean():.2f}\")\n",
    "    print(f\"slowness: {slowness.mean():.2f} ± {slowness.std():.2f}\")\n",
    "    print(f\"Accuracy: {accs.mean():.1f} ± {accs.std():.1f}%\")\n",
    "    return losses.mean(), losses.std(), slowness.mean(), slowness.std(), accs.mean(), accs.std()\n",
    "\n",
    "\n",
    "lmf, lsf, smf, ssf, amf, asf = print_metrics(False)\n",
    "lmt, lst, smt, sst, amt, ast = print_metrics(True)\n",
    "print(\"\\nCopy to table\")\n",
    "print(f\"CIFAR-10 & \"\n",
    "      f\"${lmf:.2f}\\!\\pm\\!{lsf:.2f}$ & ${lmt:.2f}\\!\\pm\\!{lst:.2f}$ & \"\n",
    "      f\"${smf:.2f}\\!\\pm\\!{ssf:.2f}$ & ${smt:.2f}\\!\\pm\\!{sst:.2f}$ & Accuracy & \"\n",
    "      f\"${amf:.2f}\\!\\pm\\!{asf:.2f}\\%$ & ${amt:.2f}\\!\\pm\\!{ast:.2f}\\%$\")"
   ]
  },
  {
   "cell_type": "markdown",
   "id": "b78ec181-7be4-46f2-9522-a13b1be479fb",
   "metadata": {},
   "source": [
    "### Loss history"
   ]
  },
  {
   "cell_type": "code",
   "execution_count": 8,
   "id": "f69588ac",
   "metadata": {
    "ExecuteTime": {
     "end_time": "2024-09-09T21:11:43.006742Z",
     "start_time": "2024-09-09T21:11:42.421721Z"
    }
   },
   "outputs": [
    {
     "data": {
      "text/plain": "<Figure size 400x320 with 1 Axes>",
      "image/png": "[encoded data removed]"
     },
     "metadata": {},
     "output_type": "display_data"
    }
   ],
   "source": [
    "def moving_ave(series, window_size):\n",
    "    \"\"\" Moving average to smooth the loss history a little bit \"\"\"\n",
    "    return np.convolve(series, np.ones(window_size) / window_size, mode='valid')\n",
    "\n",
    "\n",
    "_, ax = plt.subplots(figsize=(5 / 2.5, 4 / 2.5), dpi=200)\n",
    "seed_ = 0\n",
    "hist_def = np.loadtxt(out_dir / f\"{seed_}_{False}\")\n",
    "hist_kgi = np.loadtxt(out_dir / f\"{seed_}_{True}\")\n",
    "ax.plot(np.arange(1, epochs + 1, 10), moving_ave(hist_def, 1), label=\"No KGI\", lw=1, c='b')\n",
    "ax.plot(np.arange(1, epochs + 1, 10), moving_ave(hist_kgi, 1), label=\"KGI\", lw=1, c='r')\n",
    "ax.set_xticks([0, 4000, 8000, 12000, 16000, 20000],\n",
    "              [0, 4, 8, 12, 16, 20])\n",
    "ax.set_ylabel(\"Cross entropy loss\")\n",
    "ax.set_xlabel(\"Epoch ($10^3$)\")\n",
    "ax.legend(ncol=2, handlelength=.8, columnspacing=.5, handletextpad=.4)\n",
    "plt.show()"
   ]
  },
  {
   "cell_type": "code",
   "execution_count": 8,
   "id": "33021307-c40b-43a6-99b4-8ed5e2693392",
   "metadata": {
    "ExecuteTime": {
     "end_time": "2024-09-09T21:11:43.009538Z",
     "start_time": "2024-09-09T21:11:43.005461Z"
    }
   },
   "outputs": [],
   "source": []
  }
 ],
 "metadata": {
  "kernelspec": {
   "display_name": "Python 3 (ipykernel)",
   "language": "python",
   "name": "python3"
  },
  "language_info": {
   "codemirror_mode": {
    "name": "ipython",
    "version": 3
   },
   "file_extension": ".py",
   "mimetype": "text/x-python",
   "name": "python",
   "nbconvert_exporter": "python",
   "pygments_lexer": "ipython3",
   "version": "3.10.13"
  }
 },
 "nbformat": 4,
 "nbformat_minor": 5
}
